{
  "nbformat": 4,
  "nbformat_minor": 0,
  "metadata": {
    "colab": {
      "provenance": [],
      "authorship_tag": "ABX9TyOvxDjXOhS1lR7L5/OVzzwK",
      "include_colab_link": true
    },
    "kernelspec": {
      "name": "python3",
      "display_name": "Python 3"
    },
    "language_info": {
      "name": "python"
    }
  },
  "cells": [
    {
      "cell_type": "markdown",
      "metadata": {
        "id": "view-in-github",
        "colab_type": "text"
      },
      "source": [
        "<a href=\"https://colab.research.google.com/github/YN1UJE/repo/blob/main/EX01_04_%E7%B5%82%E6%A5%B5%E5%AF%86%E7%A2%BC.ipynb\" target=\"_parent\"><img src=\"https://colab.research.google.com/assets/colab-badge.svg\" alt=\"Open In Colab\"/></a>"
      ]
    },
    {
      "cell_type": "code",
      "execution_count": 2,
      "metadata": {
        "colab": {
          "base_uri": "https://localhost:8080/"
        },
        "id": "EoRUy5pj3CSo",
        "outputId": "2f11f081-5ae1-40e0-cab8-fd38412f9e6e"
      },
      "outputs": [
        {
          "output_type": "stream",
          "name": "stdout",
          "text": [
            "0 - 100\n",
            "guess: 50\n",
            "50 - 100\n",
            "guess: 75\n",
            "50 - 75\n",
            "guess: 62\n",
            "62 - 75\n",
            "guess: 70\n",
            "70 - 75\n",
            "guess: 72\n",
            "72 - 75\n",
            "guess: 74\n",
            "72 - 74\n",
            "guess: 73\n",
            "猜對了\n"
          ]
        }
      ],
      "source": [
        "import random\n",
        "bomb = random.randint(1, 99)\n",
        "\n",
        "lf = 0\n",
        "rt = 100\n",
        "\n",
        "while True:\n",
        "  print(lf, '-', rt)\n",
        "  gu = int(input('guess: '))\n",
        "\n",
        "  #超過範圍\n",
        "  if gu <= lf or gu >= rt:\n",
        "    print('超過範圍')\n",
        "\n",
        "  #比炸彈小\n",
        "  elif gu < bomb:\n",
        "    lf = gu\n",
        "\n",
        "  #比炸彈大\n",
        "  elif gu > bomb:\n",
        "    rt = gu\n",
        "\n",
        "  #猜對\n",
        "  else:\n",
        "    print('猜對了')\n",
        "    break\n"
      ]
    }
  ]
}