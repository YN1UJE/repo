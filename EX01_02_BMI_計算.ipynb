{
  "nbformat": 4,
  "nbformat_minor": 0,
  "metadata": {
    "colab": {
      "provenance": [],
      "authorship_tag": "ABX9TyMUZcRK0k4GegWjvEHRjKIW",
      "include_colab_link": true
    },
    "kernelspec": {
      "name": "python3",
      "display_name": "Python 3"
    },
    "language_info": {
      "name": "python"
    }
  },
  "cells": [
    {
      "cell_type": "markdown",
      "metadata": {
        "id": "view-in-github",
        "colab_type": "text"
      },
      "source": [
        "<a href=\"https://colab.research.google.com/github/YN1UJE/repo/blob/main/EX01_02_BMI_%E8%A8%88%E7%AE%97.ipynb\" target=\"_parent\"><img src=\"https://colab.research.google.com/assets/colab-badge.svg\" alt=\"Open In Colab\"/></a>"
      ]
    },
    {
      "cell_type": "code",
      "execution_count": 2,
      "metadata": {
        "colab": {
          "base_uri": "https://localhost:8080/"
        },
        "id": "Zh3SPr_UK3q9",
        "outputId": "5e901b37-7b3e-43de-9cf9-6154b822b3fc"
      },
      "outputs": [
        {
          "output_type": "stream",
          "name": "stdout",
          "text": [
            "height(cm):155.5\n",
            "weight(cm):45\n",
            "BMI 18.6\n"
          ]
        }
      ],
      "source": [
        "ht = float( input('height(cm):') )\n",
        "wt = float( input('weight(cm):') )\n",
        "bmi = wt / (ht/100)**2\n",
        "print('BMI', round(bmi, 1))"
      ]
    }
  ]
}