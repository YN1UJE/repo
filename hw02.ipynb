{
  "nbformat": 4,
  "nbformat_minor": 0,
  "metadata": {
    "colab": {
      "provenance": [],
      "include_colab_link": true
    },
    "kernelspec": {
      "name": "python3",
      "display_name": "Python 3"
    },
    "language_info": {
      "name": "python"
    }
  },
  "cells": [
    {
      "cell_type": "markdown",
      "metadata": {
        "id": "view-in-github",
        "colab_type": "text"
      },
      "source": [
        "<a href=\"https://colab.research.google.com/github/YN1UJE/repo/blob/main/hw02.ipynb\" target=\"_parent\"><img src=\"https://colab.research.google.com/assets/colab-badge.svg\" alt=\"Open In Colab\"/></a>"
      ]
    },
    {
      "cell_type": "markdown",
      "source": [
        "# HW02 Web Crawler"
      ],
      "metadata": {
        "id": "eo72fZ0YlURV"
      }
    },
    {
      "cell_type": "markdown",
      "source": [
        "## 題目"
      ],
      "metadata": {
        "id": "gUsBAopRJMJD"
      }
    },
    {
      "cell_type": "markdown",
      "source": [
        "使用爬蟲技術收集 KKday 曼谷的熱門美食"
      ],
      "metadata": {
        "id": "pDHhflLyJRgS"
      }
    },
    {
      "cell_type": "markdown",
      "source": [
        "## 摘要"
      ],
      "metadata": {
        "id": "hbqT3pl04Hl9"
      }
    },
    {
      "cell_type": "markdown",
      "source": [
        "本報告旨在透過網路爬蟲技術，收集 KKday 網站上曼谷美食的推薦資料，提供為父母的旅遊參考。"
      ],
      "metadata": {
        "id": "eweMw-wh4TC0"
      }
    },
    {
      "cell_type": "markdown",
      "source": [
        "## 引言"
      ],
      "metadata": {
        "id": "9nb1aHAM4XiE"
      }
    },
    {
      "cell_type": "markdown",
      "source": [
        "近期因父母即將前往曼谷旅遊，為了幫助他們規劃行程、挑選合適的餐廳與熱門景點，我希望能透過網路爬蟲技術，收集並 KKday 上曼谷的熱門美食與景點資訊，分析其價格、評價等資訊，為他們提供決策支持。"
      ],
      "metadata": {
        "id": "0ZmT034r5F9R"
      }
    },
    {
      "cell_type": "markdown",
      "source": [
        "## 方法"
      ],
      "metadata": {
        "id": "8YMFd39F4n4l"
      }
    },
    {
      "cell_type": "markdown",
      "source": [
        "- 目標網站描述\n",
        "  - 目標網站：KKday 曼谷美食推薦頁面。  \n",
        "  https://www.kkday.com/zh-tw/category/th-bangkok/restaurants/list\n",
        "  - 頁面結構：包含名稱、評分、價格、簡介等資訊。\n",
        "\n",
        "- 工具與技術\n",
        "  - 使用 Python 的 `requests` 庫發送 HTTP 請求。\n",
        "  - 使用 `BeautifulSoup` 解析 HTML。\n",
        "  - 使用 Google Chrome 開發者工具取得 AJAX 資料。\n"
      ],
      "metadata": {
        "id": "zkix6XqZ429E"
      }
    },
    {
      "cell_type": "code",
      "source": [
        "import requests\n",
        "from bs4 import BeautifulSoup\n",
        "\n",
        "url = 'https://www.kkday.com/zh-tw/category/th-bangkok/restaurants/list'\n",
        "headers = {'user-agent':'Mozilla/5.0 (Windows NT 10.0; Win64; x64) AppleWebKit/537.36 (KHTML, like Gecko) Chrome/134.0.0.0 Safari/537.36'}\n",
        "\n",
        "response = requests.get(url, headers=headers)\n",
        "soup = BeautifulSoup(response.text, 'lxml')\n",
        "\n",
        "print(soup.title.text)"
      ],
      "metadata": {
        "id": "ziaWIQ0t8vKt",
        "colab": {
          "base_uri": "https://localhost:8080/"
        },
        "outputId": "534e6c14-3f93-4522-8eeb-c3aadb21fbc0"
      },
      "execution_count": 61,
      "outputs": [
        {
          "output_type": "stream",
          "name": "stdout",
          "text": [
            "Top 1503 曼谷 美食 - 2025 更新 - KKday\n"
          ]
        }
      ]
    },
    {
      "cell_type": "code",
      "source": [
        "import requests\n",
        "url = 'https://www.kkday.com/zh-tw/category/ajax_get_top_products?productCategory=CATEGORY_079&destination=D-TH-4622'\n",
        "headers = {'user-agent':'Mozilla/5.0 (Windows NT 10.0; Win64; x64) AppleWebKit/537.36 (KHTML, like Gecko) Chrome/134.0.0.0 Safari/537.36'}\n",
        "response = requests.get(url,headers=headers)\n",
        "data = response.json()\n",
        "data['data']"
      ],
      "metadata": {
        "colab": {
          "base_uri": "https://localhost:8080/"
        },
        "id": "7szD7by6AdUE",
        "outputId": "9390c8bb-65aa-4a2c-bb16-0424fa4ac57f"
      },
      "execution_count": 84,
      "outputs": [
        {
          "output_type": "execute_result",
          "data": {
            "text/plain": [
              "[{'prod_mid': 3793,\n",
              "  'prod_oid': 24885,\n",
              "  'name': '曼谷|彩虹雲霄酒店餐廳自助餐(76、78樓)',\n",
              "  'introduction': '品嚐美味的國際自助餐,同時欣賞曼谷天際線的壯麗的美景。根據我們提供的選項,選擇您喜愛的料理類型。品嚐各種美食,並進入77樓和84樓的觀景台。',\n",
              "  'rating_count': 1736,\n",
              "  'rating_star': 4.19,\n",
              "  'show_order_count': '10K+',\n",
              "  'earliest_sale_date': '20250617',\n",
              "  'sale_status': 1,\n",
              "  'purchase_type': None,\n",
              "  'purchase_date': None,\n",
              "  'is_tourism_product': True,\n",
              "  'readable_url': 'baiyoke-sky-buffet-76th-78th-floor-bangkok-packages',\n",
              "  'product_category': {'main': 'CATEGORY_079', 'sub': []},\n",
              "  'display_tags': ['3天前可免費取消', '立即確認'],\n",
              "  'img_url_list': ['https://image.kkday.com/image/get/w_600%2Cc_fit/s1.kkday.com/product_24885/20241107074421_yDYPM/jpg',\n",
              "   'https://image.kkday.com/image/get/w_600%2Cc_fit/s1.kkday.com/product_24885/20241107075215_ypFEl/jpg',\n",
              "   'https://image.kkday.com/image/get/w_600%2Cc_fit/s1.kkday.com/product_24885/20241107075251_lKp7l/jpg',\n",
              "   'https://image.kkday.com/image/get/w_600%2Cc_fit/s1.kkday.com/product_24885/20241107075132_X1uRi/jpg',\n",
              "   'https://image.kkday.com/image/get/w_600%2Cc_fit/s1.kkday.com/product_24885/20241107075152_3YHKv/jpg',\n",
              "   'https://image.kkday.com/image/get/w_600%2Cc_fit/s1.kkday.com/product_24885/20241107075138_qiI4V/jpg',\n",
              "   'https://image.kkday.com/image/get/w_600%2Cc_fit/s1.kkday.com/product_24885/20241107075223_CMPgw/jpg',\n",
              "   'https://image.kkday.com/image/get/w_600%2Cc_fit/s1.kkday.com/product_24885/20241107075146_2Sayx/jpg',\n",
              "   'https://image.kkday.com/image/get/w_600%2Cc_fit/s1.kkday.com/product_24885/20241107075124_Gg1Uc/jpg'],\n",
              "  'currency': 'TWD',\n",
              "  'official_price': 1530,\n",
              "  'max_price': 856,\n",
              "  'min_price': 856,\n",
              "  'discount': 0.4405,\n",
              "  'is_display_price': True,\n",
              "  'destinations': [{'code': 'D-TH-4622', 'name': '曼谷'},\n",
              "   {'code': 'D-TH-215', 'name': '泰國'}],\n",
              "  'is_marketplace': False,\n",
              "  'supplier_oid_list': [15562],\n",
              "  'supplier_name': None,\n",
              "  'supplier_logo': None,\n",
              "  'supplier_badge': 0,\n",
              "  'is_zero_price': False,\n",
              "  'is_kkday_best_route': False,\n",
              "  'prod_discount_type': None,\n",
              "  'instant_booking': True},\n",
              " {'prod_mid': 155276,\n",
              "  'prod_oid': 155276,\n",
              "  'name': '泰國|曼谷 Copper Beyond 自助餐體驗|Sense Pinklao 分店',\n",
              "  'introduction': '曼谷 Copper Beyond 自助餐承諾為您帶來超越傳統自助餐體驗的美食之旅。這是對多樣化風味、烹飪藝術以及對使用最好食材的承諾的慶祝。無論您是美食愛好者還是只是尋求難忘的用餐體驗,Copper Beyond 自助餐都能為您提供一場感官盛宴。',\n",
              "  'rating_count': 365,\n",
              "  'rating_star': 4.68,\n",
              "  'show_order_count': '3K+',\n",
              "  'earliest_sale_date': '20250616',\n",
              "  'sale_status': 1,\n",
              "  'purchase_type': None,\n",
              "  'purchase_date': None,\n",
              "  'is_tourism_product': True,\n",
              "  'readable_url': 'copper-beyond-buffet-dining-bangkok-thailand',\n",
              "  'product_category': {'main': 'CATEGORY_079', 'sub': []},\n",
              "  'display_tags': ['立即確認'],\n",
              "  'img_url_list': ['https://image.kkday.com/image/get/w_600%2Cc_fit/s1.kkday.com/product_155276/20241127071250_uCGWD/jpg',\n",
              "   'https://image.kkday.com/image/get/w_600%2Cc_fit/s1.kkday.com/product_155276/20241127071247_kXIlA/jpg',\n",
              "   'https://image.kkday.com/image/get/w_600%2Cc_fit/s1.kkday.com/product_155276/20241127071249_WxhcD/jpg',\n",
              "   'https://image.kkday.com/image/get/w_600%2Cc_fit/s1.kkday.com/product_155276/20241127071254_AZchO/jpg',\n",
              "   'https://image.kkday.com/image/get/w_600%2Cc_fit/s1.kkday.com/product_155276/20241127071252_YD52Q/jpg',\n",
              "   'https://image.kkday.com/image/get/w_600%2Cc_fit/s1.kkday.com/product_155276/20241127071248_SjWda/jpg',\n",
              "   'https://image.kkday.com/image/get/w_600%2Cc_fit/s1.kkday.com/product_155276/20241127071255_wJd52/jpg',\n",
              "   'https://image.kkday.com/image/get/w_600%2Cc_fit/s1.kkday.com/product_155276/20241127071251_ap8xm/jpg',\n",
              "   'https://image.kkday.com/image/get/w_600%2Cc_fit/s1.kkday.com/product_155276/20241127071256_0eMQT/jpg',\n",
              "   'https://image.kkday.com/image/get/w_600%2Cc_fit/s1.kkday.com/product_155276/20241127071253_LCo1I/jpg'],\n",
              "  'currency': 'TWD',\n",
              "  'official_price': 1457,\n",
              "  'max_price': 3643,\n",
              "  'min_price': 1457,\n",
              "  'discount': 0,\n",
              "  'is_display_price': False,\n",
              "  'destinations': [{'code': 'D-TH-4622', 'name': '曼谷'},\n",
              "   {'code': 'D-TH-215', 'name': '泰國'}],\n",
              "  'is_marketplace': False,\n",
              "  'supplier_oid_list': [24008],\n",
              "  'supplier_name': None,\n",
              "  'supplier_logo': None,\n",
              "  'supplier_badge': 0,\n",
              "  'is_zero_price': False,\n",
              "  'is_kkday_best_route': False,\n",
              "  'prod_discount_type': None,\n",
              "  'instant_booking': True},\n",
              " {'prod_mid': 164203,\n",
              "  'prod_oid': 164203,\n",
              "  'name': '彩虹天空飯店 81 樓自助餐,曼谷陽台和戶外 Skybox |曼谷',\n",
              "  'introduction': '與您所愛的人一起在曼谷度過一個難忘的夜晚!在彩虹雲霄酒店享用浪漫晚餐,欣賞令人驚嘆的城市景觀。在 81 樓品嚐美味的國際自助餐,然後從 84 樓的旋轉觀景台欣賞迷人的 360 度全景。',\n",
              "  'rating_count': 233,\n",
              "  'rating_star': 4.47,\n",
              "  'show_order_count': '3K+',\n",
              "  'earliest_sale_date': '20250617',\n",
              "  'sale_status': 1,\n",
              "  'purchase_type': None,\n",
              "  'purchase_date': None,\n",
              "  'is_tourism_product': True,\n",
              "  'readable_url': 'bangkok-baiyoke-sky-hotel-outdoor-skybox-buffet-thailand',\n",
              "  'product_category': {'main': 'CATEGORY_079', 'sub': []},\n",
              "  'display_tags': ['3天前可免費取消', '立即確認'],\n",
              "  'img_url_list': ['https://image.kkday.com/image/get/w_600%2Cc_fit/s1.kkday.com/product_164203/20241107071431_aEEZ5/jpg',\n",
              "   'https://image.kkday.com/image/get/w_600%2Cc_fit/s1.kkday.com/product_164203/20241107071439_bQfx3/jpg',\n",
              "   'https://image.kkday.com/image/get/w_600%2Cc_fit/s1.kkday.com/product_164203/20241107071453_iIdjo/jpg',\n",
              "   'https://image.kkday.com/image/get/w_600%2Cc_fit/s1.kkday.com/product_164203/20241107071435_AdWsQ/jpg',\n",
              "   'https://image.kkday.com/image/get/w_600%2Cc_fit/s1.kkday.com/product_164203/20241107071451_vFW8G/jpg',\n",
              "   'https://image.kkday.com/image/get/w_600%2Cc_fit/s1.kkday.com/product_164203/20241107071429_pLen6/jpg',\n",
              "   'https://image.kkday.com/image/get/w_600%2Cc_fit/s1.kkday.com/product_164203/20241107071449_N3pGp/jpg',\n",
              "   'https://image.kkday.com/image/get/w_600%2Cc_fit/s1.kkday.com/product_164203/20241107071445_0D0YA/jpg',\n",
              "   'https://image.kkday.com/image/get/w_600%2Cc_fit/s1.kkday.com/product_164203/20241107071425_5q90v/jpg',\n",
              "   'https://image.kkday.com/image/get/w_600%2Cc_fit/s1.kkday.com/product_164203/20240307071252_hcu4C/jpg'],\n",
              "  'currency': 'TWD',\n",
              "  'official_price': 310,\n",
              "  'max_price': 1776,\n",
              "  'min_price': 310,\n",
              "  'discount': 0,\n",
              "  'is_display_price': False,\n",
              "  'destinations': [{'code': 'D-TH-4622', 'name': '曼谷'},\n",
              "   {'code': 'D-TH-215', 'name': '泰國'}],\n",
              "  'is_marketplace': False,\n",
              "  'supplier_oid_list': [15562],\n",
              "  'supplier_name': None,\n",
              "  'supplier_logo': None,\n",
              "  'supplier_badge': 0,\n",
              "  'is_zero_price': False,\n",
              "  'is_kkday_best_route': False,\n",
              "  'prod_discount_type': None,\n",
              "  'instant_booking': True},\n",
              " {'prod_mid': 164229,\n",
              "  'prod_oid': 164229,\n",
              "  'name': '彩虹雲霄酒店 82 樓自助餐由 Crystal Grill 提供 |曼谷',\n",
              "  'introduction': '在彩虹天空酒店盡情享受美食和風景盛宴!您可以在 Crystal Grill(82 樓)品嚐美味的自助餐,同時欣賞令人驚嘆的 360 度城市景觀(77 樓和 84 樓)。在屋頂酒吧(83 樓)享用免費飲品,欣賞迷人的日落,為夜晚畫上圓滿的句號。在曼谷這座標誌性的地標建築上與您的朋友或親人留下永恆的回憶。',\n",
              "  'rating_count': 112,\n",
              "  'rating_star': 4.51,\n",
              "  'show_order_count': '1K+',\n",
              "  'earliest_sale_date': '20250617',\n",
              "  'sale_status': 1,\n",
              "  'purchase_type': None,\n",
              "  'purchase_date': None,\n",
              "  'is_tourism_product': True,\n",
              "  'readable_url': 'bangkok-baiyoke-sky-hotel-crystal-grill-buffet-thailand',\n",
              "  'product_category': {'main': 'CATEGORY_079', 'sub': []},\n",
              "  'display_tags': ['3天前可免費取消', '立即確認'],\n",
              "  'img_url_list': ['https://image.kkday.com/image/get/w_600%2Cc_fit/s1.kkday.com/product_164229/20241107073758_7xjRW/jpg',\n",
              "   'https://image.kkday.com/image/get/w_600%2Cc_fit/s1.kkday.com/product_164229/20241107073602_VPK6Q/jpg',\n",
              "   'https://image.kkday.com/image/get/w_600%2Cc_fit/s1.kkday.com/product_164229/20241107073554_PC1lc/jpg',\n",
              "   'https://image.kkday.com/image/get/w_600%2Cc_fit/s1.kkday.com/product_164229/20241107073548_y0AL8/jpg',\n",
              "   'https://image.kkday.com/image/get/w_600%2Cc_fit/s1.kkday.com/product_164229/20241107073545_xsqPI/jpg',\n",
              "   'https://image.kkday.com/image/get/w_600%2Cc_fit/s1.kkday.com/product_164229/20241107073558_h6vi8/jpg',\n",
              "   'https://image.kkday.com/image/get/w_600%2Cc_fit/s1.kkday.com/product_164229/20241107090559_Qvt9S/jpg',\n",
              "   'https://image.kkday.com/image/get/w_600%2Cc_fit/s1.kkday.com/product_164229/20241107090601_aipwT/jpg',\n",
              "   'https://image.kkday.com/image/get/w_600%2Cc_fit/s1.kkday.com/product_164229/20241107090602_Yeyxw/jpg',\n",
              "   'https://image.kkday.com/image/get/w_600%2Cc_fit/s1.kkday.com/product_164229/20241107090605_YXPiQ/jpg'],\n",
              "  'currency': 'TWD',\n",
              "  'official_price': 720,\n",
              "  'max_price': 1412,\n",
              "  'min_price': 629,\n",
              "  'discount': 0.1264,\n",
              "  'is_display_price': True,\n",
              "  'destinations': [{'code': 'D-TH-4622', 'name': '曼谷'},\n",
              "   {'code': 'D-TH-215', 'name': '泰國'}],\n",
              "  'is_marketplace': False,\n",
              "  'supplier_oid_list': [15562],\n",
              "  'supplier_name': None,\n",
              "  'supplier_logo': None,\n",
              "  'supplier_badge': 0,\n",
              "  'is_zero_price': False,\n",
              "  'is_kkday_best_route': False,\n",
              "  'prod_discount_type': None,\n",
              "  'instant_booking': True},\n",
              " {'prod_mid': 161616,\n",
              "  'prod_oid': 161616,\n",
              "  'name': '芭堤雅天空 32 格蘭德中心點酒店屋頂晚餐體驗 |泰國',\n",
              "  'introduction': 'Sky 32 位於芭達雅市上空 32 層,可欣賞迷人的景色和美味的菜餚,對於那些尋求難忘用餐體驗的人來說,它是一顆隱藏的寶石。無論您選擇在室內或戶外用餐,還是只是一邊喝一杯,一邊欣賞芭堤雅市閃閃發光的燈光和深藍色大海的全景,Sky 32 都能提供令人驚嘆的背景。欣賞日落時天空變藍,享受浪漫的雙人晚餐,或與家人和朋友一起享用美味佳餚,享受輕鬆時光,同時欣賞芭堤雅灣的無盡美景。這個獨特的用餐目的地非常適合那些在壯觀的環境中尋求多樣化和難忘的美食冒險的人。',\n",
              "  'rating_count': 7,\n",
              "  'rating_star': 4.29,\n",
              "  'show_order_count': '25+',\n",
              "  'earliest_sale_date': '20250617',\n",
              "  'sale_status': 1,\n",
              "  'purchase_type': None,\n",
              "  'purchase_date': None,\n",
              "  'is_tourism_product': True,\n",
              "  'readable_url': 'grande-centre-point-hotel-pattaya-sky-32-rooftop-dinner-thailand',\n",
              "  'product_category': {'main': 'CATEGORY_079', 'sub': []},\n",
              "  'display_tags': ['立即確認'],\n",
              "  'img_url_list': ['https://image.kkday.com/image/get/w_600%2Cc_fit/s1.kkday.com/product_161616/20240130112509_V8jKv/jpg',\n",
              "   'https://image.kkday.com/image/get/w_600%2Cc_fit/s1.kkday.com/product_161616/20240130112457_g30Lx/jpg',\n",
              "   'https://image.kkday.com/image/get/w_600%2Cc_fit/s1.kkday.com/product_161616/20240130112514_XEHNp/jpg',\n",
              "   'https://image.kkday.com/image/get/w_600%2Cc_fit/s1.kkday.com/product_161616/20240130112506_oWDYH/jpg',\n",
              "   'https://image.kkday.com/image/get/w_600%2Cc_fit/s1.kkday.com/product_161616/20240130112553_uMWO3/jpg',\n",
              "   'https://image.kkday.com/image/get/w_600%2Cc_fit/s1.kkday.com/product_161616/20240130112601_7Tslt/jpg',\n",
              "   'https://image.kkday.com/image/get/w_600%2Cc_fit/s1.kkday.com/product_161616/20240130112502_iq1Es/jpg',\n",
              "   'https://image.kkday.com/image/get/w_600%2Cc_fit/s1.kkday.com/product_161616/20240130112557_c6DeD/jpg',\n",
              "   'https://image.kkday.com/image/get/w_600%2Cc_fit/s1.kkday.com/product_161616/20240130112543_7sTvg/jpg',\n",
              "   'https://image.kkday.com/image/get/w_600%2Cc_fit/s1.kkday.com/product_161616/20240130112253_nx39M/jpg'],\n",
              "  'currency': 'TWD',\n",
              "  'official_price': 1363,\n",
              "  'max_price': 1175,\n",
              "  'min_price': 893,\n",
              "  'discount': 0.3448,\n",
              "  'is_display_price': True,\n",
              "  'destinations': [{'code': 'D-TH-4719', 'name': '芭達雅'},\n",
              "   {'code': 'D-TH-4622', 'name': '曼谷'},\n",
              "   {'code': 'D-TH-4631', 'name': '春武里府'},\n",
              "   {'code': 'D-TH-215', 'name': '泰國'}],\n",
              "  'is_marketplace': False,\n",
              "  'supplier_oid_list': [24008],\n",
              "  'supplier_name': None,\n",
              "  'supplier_logo': None,\n",
              "  'supplier_badge': 0,\n",
              "  'is_zero_price': False,\n",
              "  'is_kkday_best_route': False,\n",
              "  'prod_discount_type': None,\n",
              "  'instant_booking': True},\n",
              " {'prod_mid': 131041,\n",
              "  'prod_oid': 131041,\n",
              "  'name': '【泰國】曼谷|中央世界購物中心 Divana Signature Cafe下午茶套餐',\n",
              "  'introduction': '立即在 KKday 預訂Divana Signature Cafe下午茶套餐,在 Divana Signature Cafe 享受輕鬆的下午,享用 KKday 獨家奢華下午茶套餐。',\n",
              "  'rating_count': 135,\n",
              "  'rating_star': 4.33,\n",
              "  'show_order_count': '500+',\n",
              "  'earliest_sale_date': '20250617',\n",
              "  'sale_status': 1,\n",
              "  'purchase_type': None,\n",
              "  'purchase_date': None,\n",
              "  'is_tourism_product': True,\n",
              "  'readable_url': 'kkday-exclusive-menu-divana-signature-cafe-afternoon-tea-set-bangkok',\n",
              "  'product_category': {'main': 'CATEGORY_079', 'sub': []},\n",
              "  'display_tags': ['1天前可免費取消', '立即確認'],\n",
              "  'img_url_list': ['https://image.kkday.com/image/get/w_600%2Cc_fit/s1.kkday.com/product_131041/20221215155806_3n4UI/png',\n",
              "   'https://image.kkday.com/image/get/w_600%2Cc_fit/s1.kkday.com/product_131041/20230126114411_YrZVs/jpg',\n",
              "   'https://image.kkday.com/image/get/w_600%2Cc_fit/s1.kkday.com/product_131041/20220707122123_jbHFu/png',\n",
              "   'https://image.kkday.com/image/get/w_600%2Cc_fit/s1.kkday.com/product_131041/20220707122652_nbhzU/jpg',\n",
              "   'https://image.kkday.com/image/get/w_600%2Cc_fit/s1.kkday.com/product_131041/20220707122653_TQVsa/jpg',\n",
              "   'https://image.kkday.com/image/get/w_600%2Cc_fit/s1.kkday.com/product_131041/20220707122654_CJt2N/jpg',\n",
              "   'https://image.kkday.com/image/get/w_600%2Cc_fit/s1.kkday.com/product_131041/20220707122655_NJGNe/jpg',\n",
              "   'https://image.kkday.com/image/get/w_600%2Cc_fit/s1.kkday.com/product_131041/20220707122656_0TWct/jpg',\n",
              "   'https://image.kkday.com/image/get/w_600%2Cc_fit/s1.kkday.com/product_131041/20220707122657_2DtUr/jpg',\n",
              "   'https://image.kkday.com/image/get/w_600%2Cc_fit/s1.kkday.com/product_131041/20220707122128_Cp1c7/png'],\n",
              "  'currency': 'TWD',\n",
              "  'official_price': 367,\n",
              "  'max_price': 1002,\n",
              "  'min_price': 292,\n",
              "  'discount': 0.2044,\n",
              "  'is_display_price': True,\n",
              "  'destinations': [{'code': 'D-TH-4622', 'name': '曼谷'},\n",
              "   {'code': 'D-TH-215', 'name': '泰國'}],\n",
              "  'is_marketplace': False,\n",
              "  'supplier_oid_list': [7587],\n",
              "  'supplier_name': None,\n",
              "  'supplier_logo': None,\n",
              "  'supplier_badge': 0,\n",
              "  'is_zero_price': False,\n",
              "  'is_kkday_best_route': False,\n",
              "  'prod_discount_type': None,\n",
              "  'instant_booking': True},\n",
              " {'prod_mid': 162017,\n",
              "  'prod_oid': 162017,\n",
              "  'name': '曼谷centralwOrld 的Khao Jaan-Prod 用餐體驗|泰國',\n",
              "  'introduction': '在曼谷中央世界的 Khao Jaan-Prod 品嚐來自泰國各地、採用優質食材的正宗泰國美食。享受融合傳統風味與現代風味的創新菜單。',\n",
              "  'rating_count': 2,\n",
              "  'rating_star': 4,\n",
              "  'show_order_count': '',\n",
              "  'earliest_sale_date': '20250617',\n",
              "  'sale_status': 1,\n",
              "  'purchase_type': None,\n",
              "  'purchase_date': None,\n",
              "  'is_tourism_product': True,\n",
              "  'readable_url': 'bangkok-centraworld-khao-jaan-prod-dining-thailand',\n",
              "  'product_category': {'main': 'CATEGORY_079', 'sub': []},\n",
              "  'display_tags': ['立即確認'],\n",
              "  'img_url_list': ['https://image.kkday.com/image/get/w_600%2Cc_fit/s1.kkday.com/product_162017/20240208052440_I8LuB/jpg',\n",
              "   'https://image.kkday.com/image/get/w_600%2Cc_fit/s1.kkday.com/product_162017/20240208052444_gFnA4/jpg',\n",
              "   'https://image.kkday.com/image/get/w_600%2Cc_fit/s1.kkday.com/product_162017/20240208052428_amv45/jpg',\n",
              "   'https://image.kkday.com/image/get/w_600%2Cc_fit/s1.kkday.com/product_162017/20240208052422_08CR8/jpg',\n",
              "   'https://image.kkday.com/image/get/w_600%2Cc_fit/s1.kkday.com/product_162017/20240208052411_HQdjU/jpg',\n",
              "   'https://image.kkday.com/image/get/w_600%2Cc_fit/s1.kkday.com/product_162017/20240208052417_TAORA/jpg',\n",
              "   'https://image.kkday.com/image/get/w_600%2Cc_fit/s1.kkday.com/product_162017/20240208052435_QyZYc/jpg',\n",
              "   'https://image.kkday.com/image/get/w_600%2Cc_fit/s1.kkday.com/product_162017/20240208050822_WZEt5/jpg',\n",
              "   'https://image.kkday.com/image/get/w_600%2Cc_fit/s1.kkday.com/product_162017/20240208052406_BV4J6/jpg'],\n",
              "  'currency': 'TWD',\n",
              "  'official_price': 1682,\n",
              "  'max_price': 2050,\n",
              "  'min_price': 1321,\n",
              "  'discount': 0.2146,\n",
              "  'is_display_price': True,\n",
              "  'destinations': [{'code': 'D-TH-4622', 'name': '曼谷'},\n",
              "   {'code': 'D-TH-215', 'name': '泰國'}],\n",
              "  'is_marketplace': False,\n",
              "  'supplier_oid_list': [24008],\n",
              "  'supplier_name': None,\n",
              "  'supplier_logo': None,\n",
              "  'supplier_badge': 0,\n",
              "  'is_zero_price': False,\n",
              "  'is_kkday_best_route': False,\n",
              "  'prod_discount_type': None,\n",
              "  'instant_booking': True},\n",
              " {'prod_mid': 265302,\n",
              "  'prod_oid': 265302,\n",
              "  'name': 'NAMA 日式海鮮自助餐 |曼谷',\n",
              "  'introduction': '在 NAMA 日式海鮮自助餐探索終極美食之旅,這是曼谷頂級日本料理和新鮮海鮮愛好者的頂級餐飲目的地。這種高檔自助餐提供品種豐富的高品質菜餚,包括精心製作的壽司、生魚片、天婦羅和各種新鮮烹製的海鮮。無論您是品嚐招牌和牛還是品嚐豪華的 Uni 拼盤,NAMA 都能將自助餐體驗提升到新的高度。憑藉其別緻、現代的氛圍和無可挑剔的服務,它是與家人、朋友或同事享受難忘美食的完美場所。對於在曼谷市中心尋求正宗風味和高級餐飲的美食愛好者來說,這裡是必去之地!',\n",
              "  'rating_count': 7,\n",
              "  'rating_star': 3.71,\n",
              "  'show_order_count': '50+',\n",
              "  'earliest_sale_date': '20250617',\n",
              "  'sale_status': 1,\n",
              "  'purchase_type': None,\n",
              "  'purchase_date': None,\n",
              "  'is_tourism_product': True,\n",
              "  'readable_url': None,\n",
              "  'product_category': {'main': 'CATEGORY_079', 'sub': []},\n",
              "  'display_tags': ['即買即用', '立即確認'],\n",
              "  'img_url_list': ['https://image.kkday.com/image/get/w_600%2Cc_fit/s1.kkday.com/product_265302/20241218094652_eayJP/jpg',\n",
              "   'https://image.kkday.com/image/get/w_600%2Cc_fit/s1.kkday.com/product_265302/20241218094652_mCXpf/jpg',\n",
              "   'https://image.kkday.com/image/get/w_600%2Cc_fit/s1.kkday.com/product_265302/20241218094652_ZDELU/jpg',\n",
              "   'https://image.kkday.com/image/get/w_600%2Cc_fit/s1.kkday.com/product_265302/20241218094652_4ObsN/jpg',\n",
              "   'https://image.kkday.com/image/get/w_600%2Cc_fit/s1.kkday.com/product_265302/20241218094652_lf4ui/jpg',\n",
              "   'https://image.kkday.com/image/get/w_600%2Cc_fit/s1.kkday.com/product_265302/20241218094652_1me8b/jpg',\n",
              "   'https://image.kkday.com/image/get/w_600%2Cc_fit/s1.kkday.com/product_265302/20241218094652_40WvA/jpg',\n",
              "   'https://image.kkday.com/image/get/w_600%2Cc_fit/s1.kkday.com/product_265302/20241218094652_HvURf/jpg',\n",
              "   'https://image.kkday.com/image/get/w_600%2Cc_fit/s1.kkday.com/product_265302/20241218094652_cHphB/jpg',\n",
              "   'https://image.kkday.com/image/get/w_600%2Cc_fit/s1.kkday.com/product_265302/20241218094652_eXdyZ/jpg'],\n",
              "  'currency': 'TWD',\n",
              "  'official_price': 1366,\n",
              "  'max_price': 2732,\n",
              "  'min_price': 1366,\n",
              "  'discount': 0,\n",
              "  'is_display_price': False,\n",
              "  'destinations': [{'code': 'D-TH-4622', 'name': '曼谷'},\n",
              "   {'code': 'D-TH-215', 'name': '泰國'}],\n",
              "  'is_marketplace': False,\n",
              "  'supplier_oid_list': [24008],\n",
              "  'supplier_name': None,\n",
              "  'supplier_logo': None,\n",
              "  'supplier_badge': 0,\n",
              "  'is_zero_price': False,\n",
              "  'is_kkday_best_route': False,\n",
              "  'prod_discount_type': None,\n",
              "  'instant_booking': True},\n",
              " {'prod_mid': 156250,\n",
              "  'prod_oid': 156250,\n",
              "  'name': '曼谷 The Deck by Arun Residence 午餐與晚餐套餐泰國',\n",
              "  'introduction': 'The Deck 提供令人難以置信的河畔用餐體驗,可欣賞湄南河全景,展示水對岸雄偉的鄭王廟。此環境營造出寧靜而風景如畫的氛圍。\\n\\n餐廳專注於正宗的泰國美食,提供各種傳統菜餚,口味大膽,採用當地食材。期待經典的泰國特色菜和當地美食。\\n\\n除了美食之外,The Deck 還提供文化體驗,讓客人一邊品嚐泰國美食,一邊沉浸在曼谷歷史悠久的河畔地標的氛圍中。',\n",
              "  'rating_count': 36,\n",
              "  'rating_star': 4.19,\n",
              "  'show_order_count': '200+',\n",
              "  'earliest_sale_date': '20250623',\n",
              "  'sale_status': 1,\n",
              "  'purchase_type': None,\n",
              "  'purchase_date': None,\n",
              "  'is_tourism_product': True,\n",
              "  'readable_url': 'bangkok-the-deck-arun-residence-dining-thailand',\n",
              "  'product_category': {'main': 'CATEGORY_079', 'sub': []},\n",
              "  'display_tags': ['7天前可免費取消', '立即確認'],\n",
              "  'img_url_list': ['https://image.kkday.com/image/get/w_600%2Cc_fit/s1.kkday.com/product_156250/20231116052055_o5qtH/png',\n",
              "   'https://image.kkday.com/image/get/w_600%2Cc_fit/s1.kkday.com/product_156250/20231116052339_BVz11/png',\n",
              "   'https://image.kkday.com/image/get/w_600%2Cc_fit/s1.kkday.com/product_156250/20231116052244_E1Wml/png',\n",
              "   'https://image.kkday.com/image/get/w_600%2Cc_fit/s1.kkday.com/product_156250/20231116052313_1nudb/png',\n",
              "   'https://image.kkday.com/image/get/w_600%2Cc_fit/s1.kkday.com/product_156250/20231116052250_QwJaN/png',\n",
              "   'https://image.kkday.com/image/get/w_600%2Cc_fit/s1.kkday.com/product_156250/20231116052247_czO9U/png',\n",
              "   'https://image.kkday.com/image/get/w_600%2Cc_fit/s1.kkday.com/product_156250/20231116052346_QjuXD/png',\n",
              "   'https://image.kkday.com/image/get/w_600%2Cc_fit/s1.kkday.com/product_156250/20231116052324_3P9Hz/png',\n",
              "   'https://image.kkday.com/image/get/w_600%2Cc_fit/s1.kkday.com/product_156250/20231116052259_9jvvY/png',\n",
              "   'https://image.kkday.com/image/get/w_600%2Cc_fit/s1.kkday.com/product_156250/20231116052254_fsDL4/png'],\n",
              "  'currency': 'TWD',\n",
              "  'official_price': 1001,\n",
              "  'max_price': 1457,\n",
              "  'min_price': 1001,\n",
              "  'discount': 0,\n",
              "  'is_display_price': False,\n",
              "  'destinations': [{'code': 'D-TH-6886', 'name': '昭披耶河'},\n",
              "   {'code': 'D-TH-4622', 'name': '曼谷'},\n",
              "   {'code': 'D-TH-215', 'name': '泰國'}],\n",
              "  'is_marketplace': False,\n",
              "  'supplier_oid_list': [21074],\n",
              "  'supplier_name': None,\n",
              "  'supplier_logo': None,\n",
              "  'supplier_badge': 0,\n",
              "  'is_zero_price': False,\n",
              "  'is_kkday_best_route': False,\n",
              "  'prod_discount_type': None,\n",
              "  'instant_booking': True},\n",
              " {'prod_mid': 268374,\n",
              "  'prod_oid': 268374,\n",
              "  'name': '泰國訂座(森林泡泡)',\n",
              "  'introduction': '在 Bubble in the Forest 預訂餐桌,免去排長隊的麻煩。在這家受歡迎的咖啡館預訂一席之地,享受無縫之旅,在其迷人的氛圍中放鬆身心。品嚐美味佳餚,感受獨特的氛圍,拍攝令人驚嘆的照片,讓您的體驗真正難忘。',\n",
              "  'rating_count': 10,\n",
              "  'rating_star': 4.7,\n",
              "  'show_order_count': '100+',\n",
              "  'earliest_sale_date': '20250617',\n",
              "  'sale_status': 1,\n",
              "  'purchase_type': None,\n",
              "  'purchase_date': None,\n",
              "  'is_tourism_product': True,\n",
              "  'readable_url': None,\n",
              "  'product_category': {'main': 'CATEGORY_079', 'sub': []},\n",
              "  'display_tags': ['2天前可免費取消', '立即確認'],\n",
              "  'img_url_list': ['https://image.kkday.com/image/get/w_600%2Cc_fit/s1.kkday.com/product_268374/20250128081853_I5xag/png',\n",
              "   'https://image.kkday.com/image/get/w_600%2Cc_fit/s1.kkday.com/product_268374/20250128081854_4x7ZQ/png',\n",
              "   'https://image.kkday.com/image/get/w_600%2Cc_fit/s1.kkday.com/product_268374/20250128081851_HrkN1/png',\n",
              "   'https://image.kkday.com/image/get/w_600%2Cc_fit/s1.kkday.com/product_268374/20250128081854_YDyIA/png',\n",
              "   'https://image.kkday.com/image/get/w_600%2Cc_fit/s1.kkday.com/product_268374/20250128081855_Bg7vj/png'],\n",
              "  'currency': 'TWD',\n",
              "  'official_price': 334,\n",
              "  'max_price': 638,\n",
              "  'min_price': 334,\n",
              "  'discount': 0,\n",
              "  'is_display_price': False,\n",
              "  'destinations': [{'code': 'D-TH-4622', 'name': '曼谷'},\n",
              "   {'code': 'D-TH-215', 'name': '泰國'}],\n",
              "  'is_marketplace': False,\n",
              "  'supplier_oid_list': [17236],\n",
              "  'supplier_name': None,\n",
              "  'supplier_logo': None,\n",
              "  'supplier_badge': 0,\n",
              "  'is_zero_price': False,\n",
              "  'is_kkday_best_route': False,\n",
              "  'prod_discount_type': None,\n",
              "  'instant_booking': True}]"
            ]
          },
          "metadata": {},
          "execution_count": 84
        }
      ]
    },
    {
      "cell_type": "code",
      "source": [
        "from IPython.display import Image, display\n",
        "\n",
        "for data in data['data']:\n",
        "  print(data['name'], data['rating_star'], data['official_price'])\n",
        "  print(data['introduction'])\n",
        "  img_list = data.get('img_url_list', [])\n",
        "  display(Image(url=img_list[0], width=300))\n",
        "  print('-' * 5)\n",
        "  print()"
      ],
      "metadata": {
        "colab": {
          "base_uri": "https://localhost:8080/",
          "height": 1000
        },
        "id": "kFqzQh47blIr",
        "outputId": "aee2a10c-c81e-42fd-84a0-a473e8ecf2ed"
      },
      "execution_count": 86,
      "outputs": [
        {
          "output_type": "stream",
          "name": "stdout",
          "text": [
            "曼谷|彩虹雲霄酒店餐廳自助餐(76、78樓) 4.19 1530\n",
            "品嚐美味的國際自助餐,同時欣賞曼谷天際線的壯麗的美景。根據我們提供的選項,選擇您喜愛的料理類型。品嚐各種美食,並進入77樓和84樓的觀景台。\n"
          ]
        },
        {
          "output_type": "display_data",
          "data": {
            "text/html": [
              "<img src=\"https://image.kkday.com/image/get/w_600%2Cc_fit/s1.kkday.com/product_24885/20241107074421_yDYPM/jpg\" width=\"300\"/>"
            ],
            "text/plain": [
              "<IPython.core.display.Image object>"
            ]
          },
          "metadata": {}
        },
        {
          "output_type": "stream",
          "name": "stdout",
          "text": [
            "-----\n",
            "\n",
            "泰國|曼谷 Copper Beyond 自助餐體驗|Sense Pinklao 分店 4.68 1457\n",
            "曼谷 Copper Beyond 自助餐承諾為您帶來超越傳統自助餐體驗的美食之旅。這是對多樣化風味、烹飪藝術以及對使用最好食材的承諾的慶祝。無論您是美食愛好者還是只是尋求難忘的用餐體驗,Copper Beyond 自助餐都能為您提供一場感官盛宴。\n"
          ]
        },
        {
          "output_type": "display_data",
          "data": {
            "text/html": [
              "<img src=\"https://image.kkday.com/image/get/w_600%2Cc_fit/s1.kkday.com/product_155276/20241127071250_uCGWD/jpg\" width=\"300\"/>"
            ],
            "text/plain": [
              "<IPython.core.display.Image object>"
            ]
          },
          "metadata": {}
        },
        {
          "output_type": "stream",
          "name": "stdout",
          "text": [
            "-----\n",
            "\n",
            "彩虹天空飯店 81 樓自助餐,曼谷陽台和戶外 Skybox |曼谷 4.47 310\n",
            "與您所愛的人一起在曼谷度過一個難忘的夜晚!在彩虹雲霄酒店享用浪漫晚餐,欣賞令人驚嘆的城市景觀。在 81 樓品嚐美味的國際自助餐,然後從 84 樓的旋轉觀景台欣賞迷人的 360 度全景。\n"
          ]
        },
        {
          "output_type": "display_data",
          "data": {
            "text/html": [
              "<img src=\"https://image.kkday.com/image/get/w_600%2Cc_fit/s1.kkday.com/product_164203/20241107071431_aEEZ5/jpg\" width=\"300\"/>"
            ],
            "text/plain": [
              "<IPython.core.display.Image object>"
            ]
          },
          "metadata": {}
        },
        {
          "output_type": "stream",
          "name": "stdout",
          "text": [
            "-----\n",
            "\n",
            "彩虹雲霄酒店 82 樓自助餐由 Crystal Grill 提供 |曼谷 4.51 720\n",
            "在彩虹天空酒店盡情享受美食和風景盛宴!您可以在 Crystal Grill(82 樓)品嚐美味的自助餐,同時欣賞令人驚嘆的 360 度城市景觀(77 樓和 84 樓)。在屋頂酒吧(83 樓)享用免費飲品,欣賞迷人的日落,為夜晚畫上圓滿的句號。在曼谷這座標誌性的地標建築上與您的朋友或親人留下永恆的回憶。\n"
          ]
        },
        {
          "output_type": "display_data",
          "data": {
            "text/html": [
              "<img src=\"https://image.kkday.com/image/get/w_600%2Cc_fit/s1.kkday.com/product_164229/20241107073758_7xjRW/jpg\" width=\"300\"/>"
            ],
            "text/plain": [
              "<IPython.core.display.Image object>"
            ]
          },
          "metadata": {}
        },
        {
          "output_type": "stream",
          "name": "stdout",
          "text": [
            "-----\n",
            "\n",
            "芭堤雅天空 32 格蘭德中心點酒店屋頂晚餐體驗 |泰國 4.29 1363\n",
            "Sky 32 位於芭達雅市上空 32 層,可欣賞迷人的景色和美味的菜餚,對於那些尋求難忘用餐體驗的人來說,它是一顆隱藏的寶石。無論您選擇在室內或戶外用餐,還是只是一邊喝一杯,一邊欣賞芭堤雅市閃閃發光的燈光和深藍色大海的全景,Sky 32 都能提供令人驚嘆的背景。欣賞日落時天空變藍,享受浪漫的雙人晚餐,或與家人和朋友一起享用美味佳餚,享受輕鬆時光,同時欣賞芭堤雅灣的無盡美景。這個獨特的用餐目的地非常適合那些在壯觀的環境中尋求多樣化和難忘的美食冒險的人。\n"
          ]
        },
        {
          "output_type": "display_data",
          "data": {
            "text/html": [
              "<img src=\"https://image.kkday.com/image/get/w_600%2Cc_fit/s1.kkday.com/product_161616/20240130112509_V8jKv/jpg\" width=\"300\"/>"
            ],
            "text/plain": [
              "<IPython.core.display.Image object>"
            ]
          },
          "metadata": {}
        },
        {
          "output_type": "stream",
          "name": "stdout",
          "text": [
            "-----\n",
            "\n",
            "【泰國】曼谷|中央世界購物中心 Divana Signature Cafe下午茶套餐 4.33 367\n",
            "立即在 KKday 預訂Divana Signature Cafe下午茶套餐,在 Divana Signature Cafe 享受輕鬆的下午,享用 KKday 獨家奢華下午茶套餐。\n"
          ]
        },
        {
          "output_type": "display_data",
          "data": {
            "text/html": [
              "<img src=\"https://image.kkday.com/image/get/w_600%2Cc_fit/s1.kkday.com/product_131041/20221215155806_3n4UI/png\" width=\"300\"/>"
            ],
            "text/plain": [
              "<IPython.core.display.Image object>"
            ]
          },
          "metadata": {}
        },
        {
          "output_type": "stream",
          "name": "stdout",
          "text": [
            "-----\n",
            "\n",
            "曼谷centralwOrld 的Khao Jaan-Prod 用餐體驗|泰國 4 1682\n",
            "在曼谷中央世界的 Khao Jaan-Prod 品嚐來自泰國各地、採用優質食材的正宗泰國美食。享受融合傳統風味與現代風味的創新菜單。\n"
          ]
        },
        {
          "output_type": "display_data",
          "data": {
            "text/html": [
              "<img src=\"https://image.kkday.com/image/get/w_600%2Cc_fit/s1.kkday.com/product_162017/20240208052440_I8LuB/jpg\" width=\"300\"/>"
            ],
            "text/plain": [
              "<IPython.core.display.Image object>"
            ]
          },
          "metadata": {}
        },
        {
          "output_type": "stream",
          "name": "stdout",
          "text": [
            "-----\n",
            "\n",
            "NAMA 日式海鮮自助餐 |曼谷 3.71 1366\n",
            "在 NAMA 日式海鮮自助餐探索終極美食之旅,這是曼谷頂級日本料理和新鮮海鮮愛好者的頂級餐飲目的地。這種高檔自助餐提供品種豐富的高品質菜餚,包括精心製作的壽司、生魚片、天婦羅和各種新鮮烹製的海鮮。無論您是品嚐招牌和牛還是品嚐豪華的 Uni 拼盤,NAMA 都能將自助餐體驗提升到新的高度。憑藉其別緻、現代的氛圍和無可挑剔的服務,它是與家人、朋友或同事享受難忘美食的完美場所。對於在曼谷市中心尋求正宗風味和高級餐飲的美食愛好者來說,這裡是必去之地!\n"
          ]
        },
        {
          "output_type": "display_data",
          "data": {
            "text/html": [
              "<img src=\"https://image.kkday.com/image/get/w_600%2Cc_fit/s1.kkday.com/product_265302/20241218094652_eayJP/jpg\" width=\"300\"/>"
            ],
            "text/plain": [
              "<IPython.core.display.Image object>"
            ]
          },
          "metadata": {}
        },
        {
          "output_type": "stream",
          "name": "stdout",
          "text": [
            "-----\n",
            "\n",
            "曼谷 The Deck by Arun Residence 午餐與晚餐套餐泰國 4.19 1001\n",
            "The Deck 提供令人難以置信的河畔用餐體驗,可欣賞湄南河全景,展示水對岸雄偉的鄭王廟。此環境營造出寧靜而風景如畫的氛圍。\n",
            "\n",
            "餐廳專注於正宗的泰國美食,提供各種傳統菜餚,口味大膽,採用當地食材。期待經典的泰國特色菜和當地美食。\n",
            "\n",
            "除了美食之外,The Deck 還提供文化體驗,讓客人一邊品嚐泰國美食,一邊沉浸在曼谷歷史悠久的河畔地標的氛圍中。\n"
          ]
        },
        {
          "output_type": "display_data",
          "data": {
            "text/html": [
              "<img src=\"https://image.kkday.com/image/get/w_600%2Cc_fit/s1.kkday.com/product_156250/20231116052055_o5qtH/png\" width=\"300\"/>"
            ],
            "text/plain": [
              "<IPython.core.display.Image object>"
            ]
          },
          "metadata": {}
        },
        {
          "output_type": "stream",
          "name": "stdout",
          "text": [
            "-----\n",
            "\n",
            "泰國訂座(森林泡泡) 4.7 334\n",
            "在 Bubble in the Forest 預訂餐桌,免去排長隊的麻煩。在這家受歡迎的咖啡館預訂一席之地,享受無縫之旅,在其迷人的氛圍中放鬆身心。品嚐美味佳餚,感受獨特的氛圍,拍攝令人驚嘆的照片,讓您的體驗真正難忘。\n"
          ]
        },
        {
          "output_type": "display_data",
          "data": {
            "text/html": [
              "<img src=\"https://image.kkday.com/image/get/w_600%2Cc_fit/s1.kkday.com/product_268374/20250128081853_I5xag/png\" width=\"300\"/>"
            ],
            "text/plain": [
              "<IPython.core.display.Image object>"
            ]
          },
          "metadata": {}
        },
        {
          "output_type": "stream",
          "name": "stdout",
          "text": [
            "-----\n",
            "\n"
          ]
        }
      ]
    },
    {
      "cell_type": "markdown",
      "source": [
        "## 結果\n"
      ],
      "metadata": {
        "id": "mHEo_iad7QMa"
      }
    },
    {
      "cell_type": "markdown",
      "source": [
        "- 數據存儲方式\n",
        "  - 將數據存儲為 CSV 格式，方便後續分析。"
      ],
      "metadata": {
        "id": "Fx3h33cU8n8t"
      }
    },
    {
      "cell_type": "code",
      "source": [
        "import pandas as pd\n",
        "\n",
        "food_list = []\n",
        "for item in data['data']:\n",
        "    food_list.append({\n",
        "        '名稱': item.get('name', ''),\n",
        "        '評分': item.get('rating_star', ''),\n",
        "        '價格': item.get('official_price', ''),\n",
        "        '簡介': item.get('introduction', ''),\n",
        "        '圖片網址': item.get('img_url_list', [''])[0] if item.get('img_url_list') else ''\n",
        "    })\n",
        "\n",
        "# 建立 DataFrame\n",
        "df = pd.DataFrame(food_list)\n",
        "\n",
        "# 存成 CSV 檔案\n",
        "df.to_csv('kkday_thailand_foods.csv', encoding='utf-8-sig', index = False)\n",
        "\n",
        "print('已儲存為 kkday_thailand_foods.csv')\n",
        "\n",
        "df.head()"
      ],
      "metadata": {
        "id": "jsLbLuSa8mnY",
        "colab": {
          "base_uri": "https://localhost:8080/",
          "height": 293
        },
        "outputId": "bb4f4649-3326-4886-f5ef-91135274443f"
      },
      "execution_count": 85,
      "outputs": [
        {
          "output_type": "stream",
          "name": "stdout",
          "text": [
            "已儲存為 kkday_thailand_foods.csv\n"
          ]
        },
        {
          "output_type": "execute_result",
          "data": {
            "text/plain": [
              "                                           名稱    評分    價格  \\\n",
              "0                      曼谷|彩虹雲霄酒店餐廳自助餐(76、78樓)  4.19  1530   \n",
              "1  泰國|曼谷 Copper Beyond 自助餐體驗|Sense Pinklao 分店  4.68  1457   \n",
              "2           彩虹天空飯店 81 樓自助餐,曼谷陽台和戶外 Skybox |曼谷  4.47   310   \n",
              "3        彩虹雲霄酒店 82 樓自助餐由 Crystal Grill 提供 |曼谷  4.51   720   \n",
              "4                 芭堤雅天空 32 格蘭德中心點酒店屋頂晚餐體驗 |泰國  4.29  1363   \n",
              "\n",
              "                                                  簡介  \\\n",
              "0  品嚐美味的國際自助餐,同時欣賞曼谷天際線的壯麗的美景。根據我們提供的選項,選擇您喜愛的料理類...   \n",
              "1  曼谷 Copper Beyond 自助餐承諾為您帶來超越傳統自助餐體驗的美食之旅。這是對多樣...   \n",
              "2  與您所愛的人一起在曼谷度過一個難忘的夜晚!在彩虹雲霄酒店享用浪漫晚餐,欣賞令人驚嘆的城市景觀...   \n",
              "3  在彩虹天空酒店盡情享受美食和風景盛宴!您可以在 Crystal Grill(82 樓)品嚐美...   \n",
              "4  Sky 32 位於芭達雅市上空 32 層,可欣賞迷人的景色和美味的菜餚,對於那些尋求難忘用餐...   \n",
              "\n",
              "                                                圖片網址  \n",
              "0  https://image.kkday.com/image/get/w_600%2Cc_fi...  \n",
              "1  https://image.kkday.com/image/get/w_600%2Cc_fi...  \n",
              "2  https://image.kkday.com/image/get/w_600%2Cc_fi...  \n",
              "3  https://image.kkday.com/image/get/w_600%2Cc_fi...  \n",
              "4  https://image.kkday.com/image/get/w_600%2Cc_fi...  "
            ],
            "text/html": [
              "\n",
              "  <div id=\"df-78a734a3-0acb-4974-8c65-d4192878d0ae\" class=\"colab-df-container\">\n",
              "    <div>\n",
              "<style scoped>\n",
              "    .dataframe tbody tr th:only-of-type {\n",
              "        vertical-align: middle;\n",
              "    }\n",
              "\n",
              "    .dataframe tbody tr th {\n",
              "        vertical-align: top;\n",
              "    }\n",
              "\n",
              "    .dataframe thead th {\n",
              "        text-align: right;\n",
              "    }\n",
              "</style>\n",
              "<table border=\"1\" class=\"dataframe\">\n",
              "  <thead>\n",
              "    <tr style=\"text-align: right;\">\n",
              "      <th></th>\n",
              "      <th>名稱</th>\n",
              "      <th>評分</th>\n",
              "      <th>價格</th>\n",
              "      <th>簡介</th>\n",
              "      <th>圖片網址</th>\n",
              "    </tr>\n",
              "  </thead>\n",
              "  <tbody>\n",
              "    <tr>\n",
              "      <th>0</th>\n",
              "      <td>曼谷|彩虹雲霄酒店餐廳自助餐(76、78樓)</td>\n",
              "      <td>4.19</td>\n",
              "      <td>1530</td>\n",
              "      <td>品嚐美味的國際自助餐,同時欣賞曼谷天際線的壯麗的美景。根據我們提供的選項,選擇您喜愛的料理類...</td>\n",
              "      <td>https://image.kkday.com/image/get/w_600%2Cc_fi...</td>\n",
              "    </tr>\n",
              "    <tr>\n",
              "      <th>1</th>\n",
              "      <td>泰國|曼谷 Copper Beyond 自助餐體驗|Sense Pinklao 分店</td>\n",
              "      <td>4.68</td>\n",
              "      <td>1457</td>\n",
              "      <td>曼谷 Copper Beyond 自助餐承諾為您帶來超越傳統自助餐體驗的美食之旅。這是對多樣...</td>\n",
              "      <td>https://image.kkday.com/image/get/w_600%2Cc_fi...</td>\n",
              "    </tr>\n",
              "    <tr>\n",
              "      <th>2</th>\n",
              "      <td>彩虹天空飯店 81 樓自助餐,曼谷陽台和戶外 Skybox |曼谷</td>\n",
              "      <td>4.47</td>\n",
              "      <td>310</td>\n",
              "      <td>與您所愛的人一起在曼谷度過一個難忘的夜晚!在彩虹雲霄酒店享用浪漫晚餐,欣賞令人驚嘆的城市景觀...</td>\n",
              "      <td>https://image.kkday.com/image/get/w_600%2Cc_fi...</td>\n",
              "    </tr>\n",
              "    <tr>\n",
              "      <th>3</th>\n",
              "      <td>彩虹雲霄酒店 82 樓自助餐由 Crystal Grill 提供 |曼谷</td>\n",
              "      <td>4.51</td>\n",
              "      <td>720</td>\n",
              "      <td>在彩虹天空酒店盡情享受美食和風景盛宴!您可以在 Crystal Grill(82 樓)品嚐美...</td>\n",
              "      <td>https://image.kkday.com/image/get/w_600%2Cc_fi...</td>\n",
              "    </tr>\n",
              "    <tr>\n",
              "      <th>4</th>\n",
              "      <td>芭堤雅天空 32 格蘭德中心點酒店屋頂晚餐體驗 |泰國</td>\n",
              "      <td>4.29</td>\n",
              "      <td>1363</td>\n",
              "      <td>Sky 32 位於芭達雅市上空 32 層,可欣賞迷人的景色和美味的菜餚,對於那些尋求難忘用餐...</td>\n",
              "      <td>https://image.kkday.com/image/get/w_600%2Cc_fi...</td>\n",
              "    </tr>\n",
              "  </tbody>\n",
              "</table>\n",
              "</div>\n",
              "    <div class=\"colab-df-buttons\">\n",
              "\n",
              "  <div class=\"colab-df-container\">\n",
              "    <button class=\"colab-df-convert\" onclick=\"convertToInteractive('df-78a734a3-0acb-4974-8c65-d4192878d0ae')\"\n",
              "            title=\"Convert this dataframe to an interactive table.\"\n",
              "            style=\"display:none;\">\n",
              "\n",
              "  <svg xmlns=\"http://www.w3.org/2000/svg\" height=\"24px\" viewBox=\"0 -960 960 960\">\n",
              "    <path d=\"M120-120v-720h720v720H120Zm60-500h600v-160H180v160Zm220 220h160v-160H400v160Zm0 220h160v-160H400v160ZM180-400h160v-160H180v160Zm440 0h160v-160H620v160ZM180-180h160v-160H180v160Zm440 0h160v-160H620v160Z\"/>\n",
              "  </svg>\n",
              "    </button>\n",
              "\n",
              "  <style>\n",
              "    .colab-df-container {\n",
              "      display:flex;\n",
              "      gap: 12px;\n",
              "    }\n",
              "\n",
              "    .colab-df-convert {\n",
              "      background-color: #E8F0FE;\n",
              "      border: none;\n",
              "      border-radius: 50%;\n",
              "      cursor: pointer;\n",
              "      display: none;\n",
              "      fill: #1967D2;\n",
              "      height: 32px;\n",
              "      padding: 0 0 0 0;\n",
              "      width: 32px;\n",
              "    }\n",
              "\n",
              "    .colab-df-convert:hover {\n",
              "      background-color: #E2EBFA;\n",
              "      box-shadow: 0px 1px 2px rgba(60, 64, 67, 0.3), 0px 1px 3px 1px rgba(60, 64, 67, 0.15);\n",
              "      fill: #174EA6;\n",
              "    }\n",
              "\n",
              "    .colab-df-buttons div {\n",
              "      margin-bottom: 4px;\n",
              "    }\n",
              "\n",
              "    [theme=dark] .colab-df-convert {\n",
              "      background-color: #3B4455;\n",
              "      fill: #D2E3FC;\n",
              "    }\n",
              "\n",
              "    [theme=dark] .colab-df-convert:hover {\n",
              "      background-color: #434B5C;\n",
              "      box-shadow: 0px 1px 3px 1px rgba(0, 0, 0, 0.15);\n",
              "      filter: drop-shadow(0px 1px 2px rgba(0, 0, 0, 0.3));\n",
              "      fill: #FFFFFF;\n",
              "    }\n",
              "  </style>\n",
              "\n",
              "    <script>\n",
              "      const buttonEl =\n",
              "        document.querySelector('#df-78a734a3-0acb-4974-8c65-d4192878d0ae button.colab-df-convert');\n",
              "      buttonEl.style.display =\n",
              "        google.colab.kernel.accessAllowed ? 'block' : 'none';\n",
              "\n",
              "      async function convertToInteractive(key) {\n",
              "        const element = document.querySelector('#df-78a734a3-0acb-4974-8c65-d4192878d0ae');\n",
              "        const dataTable =\n",
              "          await google.colab.kernel.invokeFunction('convertToInteractive',\n",
              "                                                    [key], {});\n",
              "        if (!dataTable) return;\n",
              "\n",
              "        const docLinkHtml = 'Like what you see? Visit the ' +\n",
              "          '<a target=\"_blank\" href=https://colab.research.google.com/notebooks/data_table.ipynb>data table notebook</a>'\n",
              "          + ' to learn more about interactive tables.';\n",
              "        element.innerHTML = '';\n",
              "        dataTable['output_type'] = 'display_data';\n",
              "        await google.colab.output.renderOutput(dataTable, element);\n",
              "        const docLink = document.createElement('div');\n",
              "        docLink.innerHTML = docLinkHtml;\n",
              "        element.appendChild(docLink);\n",
              "      }\n",
              "    </script>\n",
              "  </div>\n",
              "\n",
              "\n",
              "    <div id=\"df-b59fb179-a096-47d4-970e-6c24170ffc45\">\n",
              "      <button class=\"colab-df-quickchart\" onclick=\"quickchart('df-b59fb179-a096-47d4-970e-6c24170ffc45')\"\n",
              "                title=\"Suggest charts\"\n",
              "                style=\"display:none;\">\n",
              "\n",
              "<svg xmlns=\"http://www.w3.org/2000/svg\" height=\"24px\"viewBox=\"0 0 24 24\"\n",
              "     width=\"24px\">\n",
              "    <g>\n",
              "        <path d=\"M19 3H5c-1.1 0-2 .9-2 2v14c0 1.1.9 2 2 2h14c1.1 0 2-.9 2-2V5c0-1.1-.9-2-2-2zM9 17H7v-7h2v7zm4 0h-2V7h2v10zm4 0h-2v-4h2v4z\"/>\n",
              "    </g>\n",
              "</svg>\n",
              "      </button>\n",
              "\n",
              "<style>\n",
              "  .colab-df-quickchart {\n",
              "      --bg-color: #E8F0FE;\n",
              "      --fill-color: #1967D2;\n",
              "      --hover-bg-color: #E2EBFA;\n",
              "      --hover-fill-color: #174EA6;\n",
              "      --disabled-fill-color: #AAA;\n",
              "      --disabled-bg-color: #DDD;\n",
              "  }\n",
              "\n",
              "  [theme=dark] .colab-df-quickchart {\n",
              "      --bg-color: #3B4455;\n",
              "      --fill-color: #D2E3FC;\n",
              "      --hover-bg-color: #434B5C;\n",
              "      --hover-fill-color: #FFFFFF;\n",
              "      --disabled-bg-color: #3B4455;\n",
              "      --disabled-fill-color: #666;\n",
              "  }\n",
              "\n",
              "  .colab-df-quickchart {\n",
              "    background-color: var(--bg-color);\n",
              "    border: none;\n",
              "    border-radius: 50%;\n",
              "    cursor: pointer;\n",
              "    display: none;\n",
              "    fill: var(--fill-color);\n",
              "    height: 32px;\n",
              "    padding: 0;\n",
              "    width: 32px;\n",
              "  }\n",
              "\n",
              "  .colab-df-quickchart:hover {\n",
              "    background-color: var(--hover-bg-color);\n",
              "    box-shadow: 0 1px 2px rgba(60, 64, 67, 0.3), 0 1px 3px 1px rgba(60, 64, 67, 0.15);\n",
              "    fill: var(--button-hover-fill-color);\n",
              "  }\n",
              "\n",
              "  .colab-df-quickchart-complete:disabled,\n",
              "  .colab-df-quickchart-complete:disabled:hover {\n",
              "    background-color: var(--disabled-bg-color);\n",
              "    fill: var(--disabled-fill-color);\n",
              "    box-shadow: none;\n",
              "  }\n",
              "\n",
              "  .colab-df-spinner {\n",
              "    border: 2px solid var(--fill-color);\n",
              "    border-color: transparent;\n",
              "    border-bottom-color: var(--fill-color);\n",
              "    animation:\n",
              "      spin 1s steps(1) infinite;\n",
              "  }\n",
              "\n",
              "  @keyframes spin {\n",
              "    0% {\n",
              "      border-color: transparent;\n",
              "      border-bottom-color: var(--fill-color);\n",
              "      border-left-color: var(--fill-color);\n",
              "    }\n",
              "    20% {\n",
              "      border-color: transparent;\n",
              "      border-left-color: var(--fill-color);\n",
              "      border-top-color: var(--fill-color);\n",
              "    }\n",
              "    30% {\n",
              "      border-color: transparent;\n",
              "      border-left-color: var(--fill-color);\n",
              "      border-top-color: var(--fill-color);\n",
              "      border-right-color: var(--fill-color);\n",
              "    }\n",
              "    40% {\n",
              "      border-color: transparent;\n",
              "      border-right-color: var(--fill-color);\n",
              "      border-top-color: var(--fill-color);\n",
              "    }\n",
              "    60% {\n",
              "      border-color: transparent;\n",
              "      border-right-color: var(--fill-color);\n",
              "    }\n",
              "    80% {\n",
              "      border-color: transparent;\n",
              "      border-right-color: var(--fill-color);\n",
              "      border-bottom-color: var(--fill-color);\n",
              "    }\n",
              "    90% {\n",
              "      border-color: transparent;\n",
              "      border-bottom-color: var(--fill-color);\n",
              "    }\n",
              "  }\n",
              "</style>\n",
              "\n",
              "      <script>\n",
              "        async function quickchart(key) {\n",
              "          const quickchartButtonEl =\n",
              "            document.querySelector('#' + key + ' button');\n",
              "          quickchartButtonEl.disabled = true;  // To prevent multiple clicks.\n",
              "          quickchartButtonEl.classList.add('colab-df-spinner');\n",
              "          try {\n",
              "            const charts = await google.colab.kernel.invokeFunction(\n",
              "                'suggestCharts', [key], {});\n",
              "          } catch (error) {\n",
              "            console.error('Error during call to suggestCharts:', error);\n",
              "          }\n",
              "          quickchartButtonEl.classList.remove('colab-df-spinner');\n",
              "          quickchartButtonEl.classList.add('colab-df-quickchart-complete');\n",
              "        }\n",
              "        (() => {\n",
              "          let quickchartButtonEl =\n",
              "            document.querySelector('#df-b59fb179-a096-47d4-970e-6c24170ffc45 button');\n",
              "          quickchartButtonEl.style.display =\n",
              "            google.colab.kernel.accessAllowed ? 'block' : 'none';\n",
              "        })();\n",
              "      </script>\n",
              "    </div>\n",
              "\n",
              "    </div>\n",
              "  </div>\n"
            ],
            "application/vnd.google.colaboratory.intrinsic+json": {
              "type": "dataframe",
              "variable_name": "df",
              "summary": "{\n  \"name\": \"df\",\n  \"rows\": 10,\n  \"fields\": [\n    {\n      \"column\": \"\\u540d\\u7a31\",\n      \"properties\": {\n        \"dtype\": \"string\",\n        \"num_unique_values\": 10,\n        \"samples\": [\n          \"\\u66fc\\u8c37 The Deck by Arun Residence \\u5348\\u9910\\u8207\\u665a\\u9910\\u5957\\u9910\\u6cf0\\u570b\",\n          \"\\u6cf0\\u570b|\\u66fc\\u8c37 Copper Beyond \\u81ea\\u52a9\\u9910\\u9ad4\\u9a57|Sense Pinklao \\u5206\\u5e97\",\n          \"\\u3010\\u6cf0\\u570b\\u3011\\u66fc\\u8c37|\\u4e2d\\u592e\\u4e16\\u754c\\u8cfc\\u7269\\u4e2d\\u5fc3 Divana Signature Cafe\\u4e0b\\u5348\\u8336\\u5957\\u9910\"\n        ],\n        \"semantic_type\": \"\",\n        \"description\": \"\"\n      }\n    },\n    {\n      \"column\": \"\\u8a55\\u5206\",\n      \"properties\": {\n        \"dtype\": \"number\",\n        \"std\": 0.30554323207472067,\n        \"min\": 3.71,\n        \"max\": 4.7,\n        \"num_unique_values\": 9,\n        \"samples\": [\n          3.71,\n          4.68,\n          4.33\n        ],\n        \"semantic_type\": \"\",\n        \"description\": \"\"\n      }\n    },\n    {\n      \"column\": \"\\u50f9\\u683c\",\n      \"properties\": {\n        \"dtype\": \"number\",\n        \"std\": 539,\n        \"min\": 310,\n        \"max\": 1682,\n        \"num_unique_values\": 10,\n        \"samples\": [\n          1001,\n          1457,\n          367\n        ],\n        \"semantic_type\": \"\",\n        \"description\": \"\"\n      }\n    },\n    {\n      \"column\": \"\\u7c21\\u4ecb\",\n      \"properties\": {\n        \"dtype\": \"string\",\n        \"num_unique_values\": 10,\n        \"samples\": [\n          \"The Deck \\u63d0\\u4f9b\\u4ee4\\u4eba\\u96e3\\u4ee5\\u7f6e\\u4fe1\\u7684\\u6cb3\\u7554\\u7528\\u9910\\u9ad4\\u9a57,\\u53ef\\u6b23\\u8cde\\u6e44\\u5357\\u6cb3\\u5168\\u666f,\\u5c55\\u793a\\u6c34\\u5c0d\\u5cb8\\u96c4\\u5049\\u7684\\u912d\\u738b\\u5edf\\u3002\\u6b64\\u74b0\\u5883\\u71df\\u9020\\u51fa\\u5be7\\u975c\\u800c\\u98a8\\u666f\\u5982\\u756b\\u7684\\u6c1b\\u570d\\u3002\\n\\n\\u9910\\u5ef3\\u5c08\\u6ce8\\u65bc\\u6b63\\u5b97\\u7684\\u6cf0\\u570b\\u7f8e\\u98df,\\u63d0\\u4f9b\\u5404\\u7a2e\\u50b3\\u7d71\\u83dc\\u991a,\\u53e3\\u5473\\u5927\\u81bd,\\u63a1\\u7528\\u7576\\u5730\\u98df\\u6750\\u3002\\u671f\\u5f85\\u7d93\\u5178\\u7684\\u6cf0\\u570b\\u7279\\u8272\\u83dc\\u548c\\u7576\\u5730\\u7f8e\\u98df\\u3002\\n\\n\\u9664\\u4e86\\u7f8e\\u98df\\u4e4b\\u5916,The Deck \\u9084\\u63d0\\u4f9b\\u6587\\u5316\\u9ad4\\u9a57,\\u8b93\\u5ba2\\u4eba\\u4e00\\u908a\\u54c1\\u5690\\u6cf0\\u570b\\u7f8e\\u98df,\\u4e00\\u908a\\u6c89\\u6d78\\u5728\\u66fc\\u8c37\\u6b77\\u53f2\\u60a0\\u4e45\\u7684\\u6cb3\\u7554\\u5730\\u6a19\\u7684\\u6c1b\\u570d\\u4e2d\\u3002\",\n          \"\\u66fc\\u8c37 Copper Beyond \\u81ea\\u52a9\\u9910\\u627f\\u8afe\\u70ba\\u60a8\\u5e36\\u4f86\\u8d85\\u8d8a\\u50b3\\u7d71\\u81ea\\u52a9\\u9910\\u9ad4\\u9a57\\u7684\\u7f8e\\u98df\\u4e4b\\u65c5\\u3002\\u9019\\u662f\\u5c0d\\u591a\\u6a23\\u5316\\u98a8\\u5473\\u3001\\u70f9\\u98ea\\u85dd\\u8853\\u4ee5\\u53ca\\u5c0d\\u4f7f\\u7528\\u6700\\u597d\\u98df\\u6750\\u7684\\u627f\\u8afe\\u7684\\u6176\\u795d\\u3002\\u7121\\u8ad6\\u60a8\\u662f\\u7f8e\\u98df\\u611b\\u597d\\u8005\\u9084\\u662f\\u53ea\\u662f\\u5c0b\\u6c42\\u96e3\\u5fd8\\u7684\\u7528\\u9910\\u9ad4\\u9a57,Copper Beyond \\u81ea\\u52a9\\u9910\\u90fd\\u80fd\\u70ba\\u60a8\\u63d0\\u4f9b\\u4e00\\u5834\\u611f\\u5b98\\u76db\\u5bb4\\u3002\",\n          \"\\u7acb\\u5373\\u5728 KKday \\u9810\\u8a02Divana Signature Cafe\\u4e0b\\u5348\\u8336\\u5957\\u9910,\\u5728 Divana Signature Cafe \\u4eab\\u53d7\\u8f15\\u9b06\\u7684\\u4e0b\\u5348,\\u4eab\\u7528 KKday \\u7368\\u5bb6\\u5962\\u83ef\\u4e0b\\u5348\\u8336\\u5957\\u9910\\u3002\"\n        ],\n        \"semantic_type\": \"\",\n        \"description\": \"\"\n      }\n    },\n    {\n      \"column\": \"\\u5716\\u7247\\u7db2\\u5740\",\n      \"properties\": {\n        \"dtype\": \"string\",\n        \"num_unique_values\": 10,\n        \"samples\": [\n          \"https://image.kkday.com/image/get/w_600%2Cc_fit/s1.kkday.com/product_156250/20231116052055_o5qtH/png\",\n          \"https://image.kkday.com/image/get/w_600%2Cc_fit/s1.kkday.com/product_155276/20241127071250_uCGWD/jpg\",\n          \"https://image.kkday.com/image/get/w_600%2Cc_fit/s1.kkday.com/product_131041/20221215155806_3n4UI/png\"\n        ],\n        \"semantic_type\": \"\",\n        \"description\": \"\"\n      }\n    }\n  ]\n}"
            }
          },
          "metadata": {},
          "execution_count": 85
        }
      ]
    },
    {
      "cell_type": "markdown",
      "source": [
        "## 問題與挑戰"
      ],
      "metadata": {
        "id": "6yHFop_b73gY"
      }
    },
    {
      "cell_type": "markdown",
      "source": [
        "- 技術挑戰  \n",
        "    需透過 AJAX 取得資料\n",
        "- 執行邏輯  \n",
        "    每次都要重新跑過 requests、取得 data 才能讓後面的 for 迴圈和 CSV 存檔正常執行，否則會出現「KeyError: 'data'」"
      ],
      "metadata": {
        "id": "D6roihku8PBu"
      }
    },
    {
      "cell_type": "markdown",
      "source": [
        "## 結論"
      ],
      "metadata": {
        "id": "VeQHgVuqqD3J"
      }
    },
    {
      "cell_type": "markdown",
      "source": [
        "- 成功獲取並分析了 KKday 推薦的曼谷美食資訊，為旅遊提供了有價值的參考。"
      ],
      "metadata": {
        "id": "Baea2g7J9DAL"
      }
    },
    {
      "cell_type": "markdown",
      "source": [
        "## 參考文獻"
      ],
      "metadata": {
        "id": "j5hI_9QW9dTt"
      }
    },
    {
      "cell_type": "markdown",
      "source": [
        "* [KKDay 在曼谷的熱門美食](https://www.kkday.com/zh-tw/category/th-bangkok/restaurants/list)"
      ],
      "metadata": {
        "id": "eLFvp2Fk9fSa"
      }
    }
  ]
}