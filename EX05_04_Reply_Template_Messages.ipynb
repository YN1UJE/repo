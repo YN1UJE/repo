{
  "nbformat": 4,
  "nbformat_minor": 0,
  "metadata": {
    "colab": {
      "provenance": [],
      "authorship_tag": "ABX9TyN3U58/bk5rKU4ZGINAYD1g",
      "include_colab_link": true
    },
    "kernelspec": {
      "name": "python3",
      "display_name": "Python 3"
    },
    "language_info": {
      "name": "python"
    }
  },
  "cells": [
    {
      "cell_type": "markdown",
      "metadata": {
        "id": "view-in-github",
        "colab_type": "text"
      },
      "source": [
        "<a href=\"https://colab.research.google.com/github/YN1UJE/repo/blob/main/EX05_04_Reply_Template_Messages.ipynb\" target=\"_parent\"><img src=\"https://colab.research.google.com/assets/colab-badge.svg\" alt=\"Open In Colab\"/></a>"
      ]
    },
    {
      "cell_type": "code",
      "execution_count": null,
      "metadata": {
        "colab": {
          "base_uri": "https://localhost:8080/"
        },
        "id": "0UVseDXfUETx",
        "outputId": "ea0ce34a-fc5f-45c6-80f6-f3c4e8d6a70a"
      },
      "outputs": [
        {
          "output_type": "stream",
          "name": "stdout",
          "text": [
            "\u001b[?25l   \u001b[90m━━━━━━━━━━━━━━━━━━━━━━━━━━━━━━━━━━━━━━━━\u001b[0m \u001b[32m0.0/776.1 kB\u001b[0m \u001b[31m?\u001b[0m eta \u001b[36m-:--:--\u001b[0m\r\u001b[2K   \u001b[91m━━━━━━━━━━━━━━\u001b[0m\u001b[91m╸\u001b[0m\u001b[90m━━━━━━━━━━━━━━━━━━━━━━━━━\u001b[0m \u001b[32m286.7/776.1 kB\u001b[0m \u001b[31m9.7 MB/s\u001b[0m eta \u001b[36m0:00:01\u001b[0m\r\u001b[2K   \u001b[90m━━━━━━━━━━━━━━━━━━━━━━━━━━━━━━━━━━━━━━━━\u001b[0m \u001b[32m776.1/776.1 kB\u001b[0m \u001b[31m12.2 MB/s\u001b[0m eta \u001b[36m0:00:00\u001b[0m\n",
            "\u001b[?25h\u001b[?25l   \u001b[90m━━━━━━━━━━━━━━━━━━━━━━━━━━━━━━━━━━━━━━━━\u001b[0m \u001b[32m0.0/165.6 kB\u001b[0m \u001b[31m?\u001b[0m eta \u001b[36m-:--:--\u001b[0m\r\u001b[2K   \u001b[90m━━━━━━━━━━━━━━━━━━━━━━━━━━━━━━━━━━━━━━━━\u001b[0m \u001b[32m165.6/165.6 kB\u001b[0m \u001b[31m12.2 MB/s\u001b[0m eta \u001b[36m0:00:00\u001b[0m\n",
            "\u001b[?25h"
          ]
        }
      ],
      "source": [
        "!pip install -q flask pyngrok flask_ngrok line-bot-sdk"
      ]
    },
    {
      "cell_type": "code",
      "source": [
        "# for colab\n",
        "from google.colab import userdata\n",
        "from pyngrok import ngrok\n",
        "from flask_ngrok import run_with_ngrok\n",
        "def ngrok_start():\n",
        "    ngrok.set_auth_token(userdata.get('ngrok_authtoken'))\n",
        "    ngrok.connect(5000)\n",
        "    run_with_ngrok(app)\n",
        "\n",
        "from flask import Flask, request, abort\n",
        "\n",
        "from linebot.v3 import WebhookHandler\n",
        "from linebot.v3.exceptions import InvalidSignatureError\n",
        "from linebot.v3.webhooks import MessageEvent, TextMessageContent\n",
        "from linebot.v3.messaging import (\n",
        "    Configuration, ApiClient, MessagingApi,\n",
        "    ReplyMessageRequest,\n",
        "    TextMessage,\n",
        "    TemplateMessage, ConfirmTemplate, MessageAction,\n",
        "    CarouselTemplate,\n",
        "    CarouselColumn,\n",
        "    URIAction,\n",
        "    PostbackAction\n",
        ")\n",
        "\n",
        "app = Flask(__name__)\n",
        "\n",
        "\n",
        "configuration = Configuration(access_token=userdata.get('line_channel_access_token'))\n",
        "handler = WebhookHandler(userdata.get('line_channel_secret'))\n",
        "\n",
        "@app.route(\"/callback\", methods=['POST'])\n",
        "def callback():\n",
        "    signature = request.headers['X-Line-Signature']\n",
        "    body = request.get_data(as_text=True)\n",
        "    try:\n",
        "        handler.handle(body, signature)\n",
        "    except InvalidSignatureError:\n",
        "        abort(400)\n",
        "    return 'OK'\n",
        "\n",
        "\n",
        "@handler.add(MessageEvent, message=TextMessageContent)\n",
        "def handle_message(event):\n",
        "    with ApiClient(configuration) as api_client:\n",
        "        line_bot_api = MessagingApi(api_client)\n",
        "\n",
        "        action = event.message.text\n",
        "        if action == 'confirm':\n",
        "          reply = TemplateMessage(\n",
        "            alt_text=\"愛哥哥吧？\",\n",
        "            template=ConfirmTemplate(\n",
        "              text=\"愛哥哥嗎？\",\n",
        "              actions=[\n",
        "                MessageAction(label=\"愛\", text=\"愛\"),\n",
        "                MessageAction(label=\"不愛\", text=\"不需要你了\")\n",
        "              ]\n",
        "            )\n",
        "          )\n",
        "        elif action == 'carousel':\n",
        "          carousel_template = CarouselTemplate(\n",
        "              columns=[\n",
        "                  CarouselColumn(\n",
        "                      thumbnail_image_url='https://assets.papegames.com/nikkiweb/papegame/deepspacetw/material/20250110/86a8d168a3a9986adaa67be26c3d9463.png',\n",
        "                      title='討厭這樣的我？',\n",
        "                      text='你也無法說服自己完全討厭我，不是嗎？',\n",
        "                      actions=[\n",
        "                          URIAction(label='我們，回家', uri='https://loveanddeepspace.infoldgames.com/zh-TW/home#1'),\n",
        "                          PostbackAction(label='抵達夢境邊緣', data='https://loveanddeepspace.infoldgames.com/zh-TW/gallery?type=video')\n",
        "                      ]\n",
        "                  ),\n",
        "                  CarouselColumn(\n",
        "                      thumbnail_image_url='https://i.ytimg.com/vi/HDdPf3iNxsY/hq720.jpg?sqp=-oaymwEhCK4FEIIDSFryq4qpAxMIARUAAAAAGAElAADIQj0AgKJD&rs=AOn4CLClbkXZFrhMapPVAhcuiMJuMK9eVQ.png',\n",
        "                      title='我叫夏以晝，是你的……',\n",
        "                      text='前面的路那麼危險，不如我們一起沉淪。',\n",
        "                      actions=[\n",
        "                          URIAction(label='我們，回家', uri='https://loveanddeepspace.infoldgames.com/zh-TW/home#1'),\n",
        "                          PostbackAction(label='明日無處可逃', data='https://loveanddeepspace.infoldgames.com/zh-TW/gallery?type=video')\n",
        "                      ]\n",
        "                  )\n",
        "              ]\n",
        "          )\n",
        "          reply = TemplateMessage(\n",
        "              alt_text='選擇你的哥哥',\n",
        "              template=carousel_template\n",
        "          )\n",
        "        else:\n",
        "          reply = TextMessage(text='（垂眸）（偏過臉）（低頭）（自嘲的一笑）不需要我？好啊，那你需要什麼？我都可以答應。你想要回臨空，我們就回臨空，你想回到從前，我們就把老宅翻修，一起住過去，一座房子不夠，那就給你建一座迷宮，我會在裡面給你準備最好的一切，把它建成世界上最漂亮的花園，有我陪著，以後他們就再也找不到你了一上大學就跟出籠的小鳥似的這麼久沒回來家裡東西在哪都不記得了吧不許走別留我一個人總是聽不到你說想見我我可以把它當作你想我的證據嗎我的弱點還要確認嗎是像你以前生病時我做的那樣知道長大了有自己的小世界了現在怎麼開始躲了當年不是你先牽住我的手讓我成為了你的哥哥嗎現在你覺得自己長大了就要松開這只手了嗎所有朝你打來的風雨都不該出現在這個世界上你第一次拉住我的手的那一天我就已經跑不掉了')\n",
        "\n",
        "        line_bot_api.reply_message(\n",
        "            ReplyMessageRequest(\n",
        "                reply_token=event.reply_token,\n",
        "                messages=[\n",
        "                  reply\n",
        "                ]\n",
        "            )\n",
        "        )\n",
        "\n",
        "\n",
        "\n",
        "ngrok_start() # for colab\n",
        "if __name__ == \"__main__\":\n",
        "    app.run()"
      ],
      "metadata": {
        "colab": {
          "base_uri": "https://localhost:8080/"
        },
        "id": "BxdTT218Woyq",
        "outputId": "4d081597-5e6b-464c-ae5f-0fbf520c3161"
      },
      "execution_count": null,
      "outputs": [
        {
          "output_type": "stream",
          "name": "stdout",
          "text": [
            " * Serving Flask app '__main__'\n",
            " * Debug mode: off\n"
          ]
        },
        {
          "output_type": "stream",
          "name": "stderr",
          "text": [
            "INFO:werkzeug:\u001b[31m\u001b[1mWARNING: This is a development server. Do not use it in a production deployment. Use a production WSGI server instead.\u001b[0m\n",
            " * Running on http://127.0.0.1:5000\n",
            "INFO:werkzeug:\u001b[33mPress CTRL+C to quit\u001b[0m\n"
          ]
        },
        {
          "output_type": "stream",
          "name": "stdout",
          "text": [
            " * Running on http://8f90-34-80-50-151.ngrok-free.app\n",
            " * Traffic stats available on http://127.0.0.1:4040\n"
          ]
        },
        {
          "output_type": "stream",
          "name": "stderr",
          "text": [
            "INFO:werkzeug:127.0.0.1 - - [13/May/2025 08:27:32] \"\u001b[33mGET / HTTP/1.1\u001b[0m\" 404 -\n",
            "INFO:werkzeug:127.0.0.1 - - [13/May/2025 08:27:33] \"\u001b[33mGET /favicon.ico HTTP/1.1\u001b[0m\" 404 -\n",
            "INFO:werkzeug:127.0.0.1 - - [13/May/2025 08:27:44] \"POST /callback HTTP/1.1\" 200 -\n"
          ]
        }
      ]
    }
  ]
}