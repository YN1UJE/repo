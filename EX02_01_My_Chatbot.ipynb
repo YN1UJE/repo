{
  "nbformat": 4,
  "nbformat_minor": 0,
  "metadata": {
    "colab": {
      "provenance": [],
      "authorship_tag": "ABX9TyMbIGjtT8UnymPxmT3Y/CbX",
      "include_colab_link": true
    },
    "kernelspec": {
      "name": "python3",
      "display_name": "Python 3"
    },
    "language_info": {
      "name": "python"
    }
  },
  "cells": [
    {
      "cell_type": "markdown",
      "metadata": {
        "id": "view-in-github",
        "colab_type": "text"
      },
      "source": [
        "<a href=\"https://colab.research.google.com/github/YN1UJE/repo/blob/main/EX02_01_My_Chatbot.ipynb\" target=\"_parent\"><img src=\"https://colab.research.google.com/assets/colab-badge.svg\" alt=\"Open In Colab\"/></a>"
      ]
    },
    {
      "cell_type": "code",
      "source": [
        "!pip install google-generativeai"
      ],
      "metadata": {
        "id": "WPXvVoib1IV5"
      },
      "execution_count": null,
      "outputs": []
    },
    {
      "cell_type": "code",
      "execution_count": 8,
      "metadata": {
        "id": "CW-QJvK5SZ_s"
      },
      "outputs": [],
      "source": [
        "from google.colab import userdata\n",
        "import google.generativeai as genai\n",
        "\n",
        "genai.configure(api_key=userdata.get('api_key'))"
      ]
    },
    {
      "cell_type": "code",
      "source": [
        "generation_config = {\n",
        "    \"temperature\":1,\n",
        "    \"max_output_tokens\":1280,\n",
        "}\n",
        "model = genai.GenerativeModel(\n",
        "    model_name=\"gemini-2.0-flash\",\n",
        "    generation_config=generation_config\n",
        ")"
      ],
      "metadata": {
        "id": "qgWXmXG0S0vr"
      },
      "execution_count": 9,
      "outputs": []
    },
    {
      "cell_type": "code",
      "source": [
        "from IPython.display import Markdown, display\n",
        "\n",
        "chat = model.start_chat(history=[])\n",
        "\n",
        "while True:\n",
        "  message = input(\"You: \")\n",
        "  if message == \"bye\":\n",
        "    break\n",
        "  response = chat.send_message(message)\n",
        "  print(\"Bot:\")\n",
        "  display(Markdown(response.text))\n"
      ],
      "metadata": {
        "colab": {
          "base_uri": "https://localhost:8080/",
          "height": 1000
        },
        "id": "kp4LRHzCSivQ",
        "outputId": "6d5bd1a2-07c7-4c50-b57c-0db3a17fbac0"
      },
      "execution_count": 11,
      "outputs": [
        {
          "output_type": "stream",
          "name": "stdout",
          "text": [
            "You: 嗨\n",
            "Bot:\n"
          ]
        },
        {
          "output_type": "display_data",
          "data": {
            "text/plain": [
              "<IPython.core.display.Markdown object>"
            ],
            "text/markdown": "你好！有什么我可以帮助你的吗？\n"
          },
          "metadata": {}
        },
        {
          "output_type": "stream",
          "name": "stdout",
          "text": [
            "You: ai是如何運作的\n",
            "Bot:\n"
          ]
        },
        {
          "output_type": "display_data",
          "data": {
            "text/plain": [
              "<IPython.core.display.Markdown object>"
            ],
            "text/markdown": "人工智能（AI）的运作方式非常复杂，但可以概括为以下几个关键步骤和概念：\n\n**1. 数据收集与准备：**\n\n*   **数据是燃料：** AI需要大量的数据来进行学习和训练。这些数据可以是文本、图像、音频、视频，甚至是来自传感器的数据。\n*   **数据清洗与预处理：** 原始数据通常包含错误、缺失值或噪声。因此，需要进行清洗和预处理，例如：\n    *   **去除重复项：** 消除冗余数据。\n    *   **处理缺失值：** 填补或删除缺失的数据。\n    *   **数据格式化：** 将数据转换为适合模型使用的格式。\n    *   **数据标准化/归一化：** 将数据缩放到一个特定的范围，以避免某些特征对模型产生过大的影响。\n\n**2. 模型选择与训练：**\n\n*   **模型种类繁多：** AI有很多不同的模型，每种模型都擅长处理不同类型的问题。常见的模型包括：\n    *   **线性回归：** 用于预测连续值。\n    *   **逻辑回归：** 用于分类问题。\n    *   **支持向量机 (SVM):** 用于分类和回归。\n    *   **决策树：** 用于分类和回归。\n    *   **随机森林：** 多个决策树的集合，通常比单个决策树更准确。\n    *   **神经网络 (Neural Networks):** 模拟人脑结构的复杂模型，特别擅长处理图像、语音和文本数据。\n        *   **深度学习 (Deep Learning):** 是神经网络的一个分支，使用多层神经网络进行学习。常见的深度学习模型包括：\n            *   **卷积神经网络 (CNN):** 用于图像识别和处理。\n            *   **循环神经网络 (RNN):** 用于处理序列数据，例如文本和时间序列。\n            *   **Transformer:** 目前最先进的语言模型架构，例如GPT系列。\n\n*   **训练过程：** 训练是指让模型从数据中学习的过程。训练算法会调整模型的参数，使其能够更好地预测或分类数据。常见的训练方法包括：\n    *   **监督学习：** 使用带有标签的数据进行训练。模型学习如何将输入映射到正确的输出。\n    *   **无监督学习：** 使用没有标签的数据进行训练。模型学习发现数据中的模式和结构。\n    *   **强化学习：** 模型通过与环境交互并接收奖励或惩罚来学习。\n\n*   **损失函数 (Loss Function):** 用于衡量模型的预测结果与实际结果之间的差距。训练的目标是最小化损失函数。\n\n*   **优化器 (Optimizer):** 用于调整模型参数以最小化损失函数。\n\n**3. 模型评估与调优：**\n\n*   **评估模型性能：** 使用独立的测试数据集评估模型的性能。常用的评估指标包括准确率、精确率、召回率、F1值等。\n*   **调整模型参数：** 如果模型性能不佳，需要调整模型参数或选择不同的模型。这通常是一个迭代的过程。\n*   **过拟合 (Overfitting) 与欠拟合 (Underfitting):**\n    *   **过拟合：** 模型在训练数据上表现很好，但在测试数据上表现很差。这意味着模型记住了训练数据中的噪声，而没有学到真正的模式。\n    *   **欠拟合：** 模型在训练数据和测试数据上都表现不好。这意味着模型过于简单，无法捕捉到数据中的模式。\n\n**4. 模型部署与应用：**\n\n*   **部署模型：** 将训练好的模型部署到生产环境中，以便可以用于实际应用。\n*   **应用场景：** AI可以应用于各种领域，包括：\n    *   **图像识别：** 识别图像中的物体、人脸等。\n    *   **自然语言处理：** 理解和生成人类语言，例如机器翻译、文本摘要、聊天机器人等。\n    *   **语音识别：** 将语音转换为文本。\n    *   **推荐系统：** 根据用户的喜好推荐商品、电影、音乐等。\n    *   **自动驾驶：** 控制汽车自动驾驶。\n    *   **医疗诊断：** 辅助医生诊断疾病。\n    *   **金融风险评估：** 评估金融风险。\n\n**更具体地讲，以下是一些更深入的概念：**\n\n*   **机器学习 (Machine Learning):** AI的一个子领域，专注于让计算机从数据中学习，而无需进行明确的编程。\n*   **特征工程 (Feature Engineering):** 选择和转换数据中的相关特征，以便更好地训练模型。\n*   **模型解释性 (Model Explainability):** 理解模型做出决策的原因。\n*   **迁移学习 (Transfer Learning):** 将在一个任务上训练的模型应用于另一个任务。\n\n**总结：**\n\nAI 的运作是一个复杂而多样的过程，涉及数据收集、模型选择、训练、评估和部署等多个步骤。 不同的AI模型适用于不同的任务，并且需要根据具体情况进行调整和优化。  它是一个不断发展的领域，新的技术和方法不断涌现。\n\n希望这个解释对您有所帮助! 如果您想了解更具体的某个方面，请随时提问。\n"
          },
          "metadata": {}
        },
        {
          "name": "stdout",
          "output_type": "stream",
          "text": [
            "You: bye\n"
          ]
        }
      ]
    }
  ]
}